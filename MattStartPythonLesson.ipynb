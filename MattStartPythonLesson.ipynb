{
 "cells": [
  {
   "cell_type": "markdown",
   "id": "4befc162-51d9-4687-ace2-956292d087dc",
   "metadata": {},
   "source": [
    "<h1> Coursera: Python for data science</h1>"
   ]
  },
  {
   "cell_type": "markdown",
   "id": "8e0f8b1d-c063-4d05-8eef-888e4c541ae5",
   "metadata": {},
   "source": [
    "# Check the Python Version\n",
    "\n",
    "import sys\n",
    "print(sys.version)"
   ]
  },
  {
   "cell_type": "code",
   "execution_count": 19,
   "id": "93a4e547-a033-4718-bbba-22f6716630d6",
   "metadata": {},
   "outputs": [
    {
     "name": "stdout",
     "output_type": "stream",
     "text": [
      "Hello, Python!\n"
     ]
    }
   ],
   "source": [
    "# Practice on writing comments\n",
    "\n",
    "print('Hello, Python!') # This line prints a string\n",
    "# print('Hi')"
   ]
  },
  {
   "cell_type": "code",
   "execution_count": 20,
   "id": "ce953a8c-f748-45c5-94a0-464d72faf887",
   "metadata": {},
   "outputs": [
    {
     "name": "stdout",
     "output_type": "stream",
     "text": [
      "Hello, world!\n"
     ]
    }
   ],
   "source": [
    "print(\"Hello, world!\") # Print the traditional hello world"
   ]
  },
  {
   "cell_type": "markdown",
   "id": "985db2db-f5d9-4058-b191-9feaf5cd7b4c",
   "metadata": {},
   "source": [
    "<h3 id=\"exercise\">Exercise: Your First Program</h3>"
   ]
  },
  {
   "cell_type": "code",
   "execution_count": 21,
   "id": "fe16ea1c-694b-4089-88d3-ed04b9985b12",
   "metadata": {},
   "outputs": [
    {
     "name": "stdout",
     "output_type": "stream",
     "text": [
      "Hello, world!\n"
     ]
    }
   ],
   "source": [
    "print(\"Hello, world!\") ## Print the traditional hello world"
   ]
  },
  {
   "cell_type": "markdown",
   "id": "fa45a0e2-df49-4cbc-9a6f-62ec988a527e",
   "metadata": {},
   "source": [
    "<details><summary>Click here for the solution</summary>\n",
    "\n",
    "```python\n",
    "print(\"Hello, world!\")\n",
    "\n",
    "```\n",
    "\n",
    "</details>"
   ]
  },
  {
   "cell_type": "markdown",
   "id": "7d24c03f-c763-4e3d-a454-2d3e089b481b",
   "metadata": {},
   "source": [
    "<details><summary>Click here for the solution</summary>\n",
    "\n",
    "```python\n",
    "print(\"Hello, world!\") # Print the traditional hello world \n",
    "\n",
    "```\n",
    "\n",
    "</details>"
   ]
  },
  {
   "cell_type": "code",
   "execution_count": 22,
   "id": "d51438d9-cdfe-4b23-b2b0-492e37018134",
   "metadata": {},
   "outputs": [
    {
     "data": {
      "text/plain": [
       "bool"
      ]
     },
     "execution_count": 22,
     "metadata": {},
     "output_type": "execute_result"
    }
   ],
   "source": [
    "# Type of True\n",
    "\n",
    "type(True)"
   ]
  },
  {
   "cell_type": "code",
   "execution_count": 23,
   "id": "7c8a4442-cb96-4988-8337-9e82e4240d72",
   "metadata": {},
   "outputs": [
    {
     "data": {
      "text/plain": [
       "160"
      ]
     },
     "execution_count": 23,
     "metadata": {},
     "output_type": "execute_result"
    }
   ],
   "source": [
    "43 + 60 + 16 + 41"
   ]
  },
  {
   "cell_type": "code",
   "execution_count": 24,
   "id": "141dbd06-a937-4b1e-b273-2b9908e17f8d",
   "metadata": {},
   "outputs": [
    {
     "data": {
      "text/plain": [
       "37991"
      ]
     },
     "execution_count": 24,
     "metadata": {},
     "output_type": "execute_result"
    }
   ],
   "source": [
    "123+234-2341+325*123"
   ]
  },
  {
   "cell_type": "code",
   "execution_count": null,
   "id": "c839166e-6762-45e9-a8d3-fb6be54c9df0",
   "metadata": {},
   "outputs": [],
   "source": []
  }
 ],
 "metadata": {
  "kernelspec": {
   "display_name": "Python 3",
   "language": "python",
   "name": "python3"
  },
  "language_info": {
   "codemirror_mode": {
    "name": "ipython",
    "version": 3
   },
   "file_extension": ".py",
   "mimetype": "text/x-python",
   "name": "python",
   "nbconvert_exporter": "python",
   "pygments_lexer": "ipython3",
   "version": "3.8.8"
  }
 },
 "nbformat": 4,
 "nbformat_minor": 5
}
